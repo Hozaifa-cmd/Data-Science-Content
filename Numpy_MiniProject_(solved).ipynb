{
  "nbformat": 4,
  "nbformat_minor": 0,
  "metadata": {
    "colab": {
      "provenance": []
    },
    "kernelspec": {
      "name": "python3",
      "display_name": "Python 3"
    },
    "language_info": {
      "name": "python"
    }
  },
  "cells": [
    {
      "cell_type": "code",
      "source": [
        "#import the required libraries\n",
        "import numpy as np\n",
        "import csv"
      ],
      "metadata": {
        "id": "QOepuiVEQmVL"
      },
      "execution_count": 6,
      "outputs": []
    },
    {
      "cell_type": "code",
      "source": [
        "from google.colab import drive\n",
        "drive.mount('/content/drive')"
      ],
      "metadata": {
        "colab": {
          "base_uri": "https://localhost:8080/"
        },
        "id": "ubC3IlbN9CKM",
        "outputId": "9ca51ce8-721e-43c3-bddd-3e7f3eac91b6"
      },
      "execution_count": 7,
      "outputs": [
        {
          "output_type": "stream",
          "name": "stdout",
          "text": [
            "Mounted at /content/drive\n"
          ]
        }
      ]
    },
    {
      "cell_type": "markdown",
      "source": [
        "# Step 1 : Read the Data!"
      ],
      "metadata": {
        "id": "XJJVjthYIz6w"
      }
    },
    {
      "cell_type": "code",
      "execution_count": 25,
      "metadata": {
        "id": "7xcB2zo-O0t-"
      },
      "outputs": [],
      "source": [
        "#give path of the source-file and store that path in a variable named census\n",
        "data_file = '/content/drive/MyDrive/Untitled folder/makeSenseOfCensus.csv'\n",
        "census = data_file"
      ]
    },
    {
      "cell_type": "markdown",
      "source": [
        "# Loading the data"
      ],
      "metadata": {
        "id": "OiSJcx6GLcWT"
      }
    },
    {
      "cell_type": "markdown",
      "source": [
        "You have studied getfromtext in Numpy Classes, now is the time to put it into action :) Below is the half completed code, you have to substitute values for delimiter and skip_header in it for hte data to be properly read into a Data array. The output of the array has been shared with you guys followed by the code block"
      ],
      "metadata": {
        "id": "VxJZY3U1nsPN"
      }
    },
    {
      "cell_type": "code",
      "source": [
        "data = np.genfromtxt(census, delimiter = ',' , skip_header =1 )\n",
        "\n",
        "# printing the data\n",
        "\n",
        "print(\"\\nData: \\n\\n\", data)\n"
      ],
      "metadata": {
        "id": "Fjx-kQkxQD7q",
        "colab": {
          "base_uri": "https://localhost:8080/"
        },
        "outputId": "a8731715-e29b-44eb-96fc-909fb75549fd"
      },
      "execution_count": 26,
      "outputs": [
        {
          "output_type": "stream",
          "name": "stdout",
          "text": [
            "\n",
            "Data: \n",
            "\n",
            " [[39. 13.  4. ...  0. 40.  0.]\n",
            " [50. 13.  4. ...  0. 13.  0.]\n",
            " [38.  9.  4. ...  0. 40.  0.]\n",
            " ...\n",
            " [48. 13.  4. ...  0. 58.  1.]\n",
            " [40. 10.  4. ...  0. 40.  0.]\n",
            " [39. 13.  4. ...  0. 50.  1.]]\n"
          ]
        }
      ]
    },
    {
      "cell_type": "markdown",
      "source": [
        "# Printing the type of data"
      ],
      "metadata": {
        "id": "lLoQJxpdOCfA"
      }
    },
    {
      "cell_type": "code",
      "source": [
        "#print the type of data\n",
        "print(type(data))"
      ],
      "metadata": {
        "colab": {
          "base_uri": "https://localhost:8080/"
        },
        "id": "xkPasCIhQ1qC",
        "outputId": "12141b3b-e10b-40b4-c459-aaa27cffe933"
      },
      "execution_count": 10,
      "outputs": [
        {
          "output_type": "stream",
          "name": "stdout",
          "text": [
            "<class 'numpy.ndarray'>\n"
          ]
        }
      ]
    },
    {
      "cell_type": "markdown",
      "source": [
        "# Step 2 : Append the Data"
      ],
      "metadata": {
        "id": "QTSTCc7jVppG"
      }
    },
    {
      "cell_type": "markdown",
      "source": [
        "A new record [[50,9,4,1,0,0,40,0]] has been given to you. You are supposed to append this new record into the data using np.concatenate()"
      ],
      "metadata": {
        "id": "-gz1eP4sfRpc"
      }
    },
    {
      "cell_type": "code",
      "source": [
        "new_record = [[50,9,4,1,0,0,40,0]]\n",
        "np.concatenate((data,new_record))\n"
      ],
      "metadata": {
        "id": "jokdR-EtS1dz",
        "colab": {
          "base_uri": "https://localhost:8080/"
        },
        "outputId": "606dd4cf-6090-4a5d-95f8-26ffc5522b0b"
      },
      "execution_count": 11,
      "outputs": [
        {
          "output_type": "execute_result",
          "data": {
            "text/plain": [
              "array([[39., 13.,  4., ...,  0., 40.,  0.],\n",
              "       [50., 13.,  4., ...,  0., 13.,  0.],\n",
              "       [38.,  9.,  4., ...,  0., 40.,  0.],\n",
              "       ...,\n",
              "       [40., 10.,  4., ...,  0., 40.,  0.],\n",
              "       [39., 13.,  4., ...,  0., 50.,  1.],\n",
              "       [50.,  9.,  4., ...,  0., 40.,  0.]])"
            ]
          },
          "metadata": {},
          "execution_count": 11
        }
      ]
    },
    {
      "cell_type": "markdown",
      "source": [
        "## Append 'new_record' (given) to 'data' using \"np.concatenate()\""
      ],
      "metadata": {
        "id": "qVKX1_leVwqh"
      }
    },
    {
      "cell_type": "code",
      "source": [
        "data = np.concatenate((data, new_record), axis=0)"
      ],
      "metadata": {
        "id": "V38I3c5rTJPQ"
      },
      "execution_count": 12,
      "outputs": []
    },
    {
      "cell_type": "code",
      "source": [
        "#display after appending the new record at the end of the array.\n",
        "print(f\"array({data}\")"
      ],
      "metadata": {
        "colab": {
          "base_uri": "https://localhost:8080/"
        },
        "id": "QOWjaWI3TlP4",
        "outputId": "64213dd2-b997-462b-d873-8b7ec3f240a0"
      },
      "execution_count": 13,
      "outputs": [
        {
          "output_type": "stream",
          "name": "stdout",
          "text": [
            "array([[39. 13.  4. ...  0. 40.  0.]\n",
            " [50. 13.  4. ...  0. 13.  0.]\n",
            " [38.  9.  4. ...  0. 40.  0.]\n",
            " ...\n",
            " [40. 10.  4. ...  0. 40.  0.]\n",
            " [39. 13.  4. ...  0. 50.  1.]\n",
            " [50.  9.  4. ...  0. 40.  0.]]\n"
          ]
        }
      ]
    },
    {
      "cell_type": "markdown",
      "source": [
        "# Step 3 : Check if it's a young country or old country"
      ],
      "metadata": {
        "id": "i_5WAJWYWHpL"
      }
    },
    {
      "cell_type": "markdown",
      "source": [
        " Create a new array called 'age' by taking only age column(age is the column with index 0) of 'census' array."
      ],
      "metadata": {
        "id": "_CqLiA9OWQPm"
      }
    },
    {
      "cell_type": "code",
      "source": [
        "age = data[:,0]\n",
        "print(age)"
      ],
      "metadata": {
        "id": "u-v0CJlJf8XA",
        "colab": {
          "base_uri": "https://localhost:8080/"
        },
        "outputId": "0faaa2d3-b66e-4585-975e-a60a05fe30f4"
      },
      "execution_count": null,
      "outputs": [
        {
          "output_type": "stream",
          "name": "stdout",
          "text": [
            "[39. 50. 38. ... 40. 39. 50.]\n"
          ]
        }
      ]
    },
    {
      "cell_type": "markdown",
      "source": [
        "Find the max age and store it in a variable called 'max_age'.\n",
        "\n"
      ],
      "metadata": {
        "id": "_IyNXVKqWpPS"
      }
    },
    {
      "cell_type": "code",
      "source": [
        "#print the max_age\n",
        "max_age = np.max(age)\n",
        "print(max_age)"
      ],
      "metadata": {
        "id": "tczhOTFif33u",
        "colab": {
          "base_uri": "https://localhost:8080/"
        },
        "outputId": "0033c8b7-c1f6-4f86-d67a-faf9135206ff"
      },
      "execution_count": null,
      "outputs": [
        {
          "output_type": "stream",
          "name": "stdout",
          "text": [
            "90.0\n"
          ]
        }
      ]
    },
    {
      "cell_type": "markdown",
      "source": [
        "Find the min age and store it in a variable called 'min_age'."
      ],
      "metadata": {
        "id": "ywrTp3KTWu9z"
      }
    },
    {
      "cell_type": "code",
      "source": [
        "#print the min_age\n",
        "min_age = np.min(age)\n",
        "print(min_age)"
      ],
      "metadata": {
        "id": "QJ1VfCH7f0RG",
        "colab": {
          "base_uri": "https://localhost:8080/"
        },
        "outputId": "92a1382c-12a4-4256-9dad-f0893be42a6f"
      },
      "execution_count": null,
      "outputs": [
        {
          "output_type": "stream",
          "name": "stdout",
          "text": [
            "17.0\n"
          ]
        }
      ]
    },
    {
      "cell_type": "markdown",
      "source": [
        "Find the mean of the age and store it in a variable called 'age_mean'."
      ],
      "metadata": {
        "id": "k6TqZMYQd8w1"
      }
    },
    {
      "cell_type": "code",
      "source": [
        "#print the age_mean\n",
        "age_mean = np.mean(age)\n",
        "print(age_mean)"
      ],
      "metadata": {
        "colab": {
          "base_uri": "https://localhost:8080/"
        },
        "id": "7dTC5eaIXs__",
        "outputId": "edbe48d7-0bd7-4cf1-9bdb-1c3a43faa0b6"
      },
      "execution_count": null,
      "outputs": [
        {
          "output_type": "stream",
          "name": "stdout",
          "text": [
            "38.06293706293706\n"
          ]
        }
      ]
    },
    {
      "cell_type": "markdown",
      "source": [
        "Find the standard deviation of the age and store it in a variable called 'age_std'"
      ],
      "metadata": {
        "id": "GEDv3kfSeF9p"
      }
    },
    {
      "cell_type": "code",
      "source": [
        "#print the age_std\n",
        "age_std = np.std(age)\n",
        "print(age_std)"
      ],
      "metadata": {
        "colab": {
          "base_uri": "https://localhost:8080/"
        },
        "id": "SF33E4XbX8Yi",
        "outputId": "b59716a1-7074-42bc-d54b-9e7f2ef7505d"
      },
      "execution_count": null,
      "outputs": [
        {
          "output_type": "stream",
          "name": "stdout",
          "text": [
            "13.341478176165857\n"
          ]
        }
      ]
    },
    {
      "cell_type": "markdown",
      "source": [
        "# Step 4: Let's check the country's race distribution to identify the minorities"
      ],
      "metadata": {
        "id": "zfJWcybQecKB"
      }
    },
    {
      "cell_type": "markdown",
      "source": [
        "Create four different arrays by subsetting 'census' array by Race column(Race is the column with index 2) and save them in 'race_0','race_1', 'race_2', 'race_3' and 'race_4' respectively(Meaning: Store the array where 'race'column has value 0 in 'race_0', so on and so forth)"
      ],
      "metadata": {
        "id": "SrvNIFGvef4r"
      }
    },
    {
      "cell_type": "code",
      "source": [
        "race = data[:,2]\n",
        "race_0 = data[race==0]\n",
        "race_1 = data[race==1]\n",
        "race_2 = data[race==2]\n",
        "race_3 = data[race==3]\n",
        "race_4 = data[race==4]\n",
        "print(race_0)"
      ],
      "metadata": {
        "colab": {
          "base_uri": "https://localhost:8080/"
        },
        "id": "2iaIx6n6YHPh",
        "outputId": "c8b8e589-2080-4267-d7d0-4dddc72fa2e0"
      },
      "execution_count": 28,
      "outputs": [
        {
          "output_type": "stream",
          "name": "stdout",
          "text": [
            "[[34.  4.  0.  1.  0.  0. 45.  0.]\n",
            " [35. 10.  0.  0.  0.  0. 40.  0.]\n",
            " [60.  6.  0.  0.  0.  0. 10.  0.]\n",
            " [51.  9.  0.  1.  0.  0. 40.  0.]\n",
            " [25. 10.  0.  0.  0.  0. 20.  0.]\n",
            " [20.  9.  0.  1.  0.  0. 48.  0.]\n",
            " [23. 10.  0.  0.  0.  0. 25.  0.]\n",
            " [29.  9.  0.  1.  0.  0. 40.  0.]\n",
            " [27. 12.  0.  1.  0.  0. 40.  0.]\n",
            " [31. 12.  0.  0.  0.  0. 40.  0.]]\n"
          ]
        }
      ]
    },
    {
      "cell_type": "code",
      "source": [],
      "metadata": {
        "id": "OEz-yzfrYxFC"
      },
      "execution_count": null,
      "outputs": []
    },
    {
      "cell_type": "markdown",
      "source": [
        "Store the length of the above created arrays in 'len_0', 'len_1','len_2', 'len_3' and 'len_4' respectively"
      ],
      "metadata": {
        "id": "thg4wOEQeo1x"
      }
    },
    {
      "cell_type": "code",
      "source": [
        "#len_0\n",
        "len_0 = len(race_0)\n",
        "print(len_0)"
      ],
      "metadata": {
        "id": "6Nbz3CBkZHLY",
        "colab": {
          "base_uri": "https://localhost:8080/"
        },
        "outputId": "d200e54d-0740-4a4e-dddd-f72330048aa9"
      },
      "execution_count": null,
      "outputs": [
        {
          "output_type": "stream",
          "name": "stdout",
          "text": [
            "10\n"
          ]
        }
      ]
    },
    {
      "cell_type": "code",
      "source": [
        "#len_1\n",
        "len_1 = len(race_1)\n",
        "print(len_1)"
      ],
      "metadata": {
        "id": "Zm0CnpfHaWQ7",
        "colab": {
          "base_uri": "https://localhost:8080/"
        },
        "outputId": "211eab17-2c66-480c-86a5-f04d3949a02f"
      },
      "execution_count": null,
      "outputs": [
        {
          "output_type": "stream",
          "name": "stdout",
          "text": [
            "27\n"
          ]
        }
      ]
    },
    {
      "cell_type": "code",
      "source": [
        "#len_2\n",
        "len_2 = len(race_2)\n",
        "print(len_2)"
      ],
      "metadata": {
        "id": "BmTApcJTab3j",
        "colab": {
          "base_uri": "https://localhost:8080/"
        },
        "outputId": "8c3d03b4-c3df-45dc-931b-0ea80d8680d8"
      },
      "execution_count": null,
      "outputs": [
        {
          "output_type": "stream",
          "name": "stdout",
          "text": [
            "110\n"
          ]
        }
      ]
    },
    {
      "cell_type": "code",
      "source": [
        "#len_3\n",
        "len_3 = len(race_3)\n",
        "print(len_3)"
      ],
      "metadata": {
        "id": "O-SEHnv9afoQ",
        "colab": {
          "base_uri": "https://localhost:8080/"
        },
        "outputId": "4127dd6c-4a6e-4dd7-f141-45268e0b5a49"
      },
      "execution_count": null,
      "outputs": [
        {
          "output_type": "stream",
          "name": "stdout",
          "text": [
            "6\n"
          ]
        }
      ]
    },
    {
      "cell_type": "code",
      "source": [
        "#len_4\n",
        "len_4 = len(race_4)\n",
        "print(len_4)"
      ],
      "metadata": {
        "id": "HksygZJFaogo",
        "colab": {
          "base_uri": "https://localhost:8080/"
        },
        "outputId": "efd46506-9e3b-422b-befb-f9fdaf46b458"
      },
      "execution_count": null,
      "outputs": [
        {
          "output_type": "stream",
          "name": "stdout",
          "text": [
            "848\n"
          ]
        }
      ]
    },
    {
      "cell_type": "markdown",
      "source": [
        "Find out which is the race with the maximum no. of citizens"
      ],
      "metadata": {
        "id": "p57jTibJezYj"
      }
    },
    {
      "cell_type": "code",
      "source": [
        "race_with_max_citizens = np.max([len_0,len_1,len_2,len_3,len_4])\n",
        "print(f\"race4 : citizens :{race_with_max_citizens}\")\n"
      ],
      "metadata": {
        "id": "axqxJHRBdMQL",
        "colab": {
          "base_uri": "https://localhost:8080/"
        },
        "outputId": "ace33858-60b1-421c-d079-2ea07375b993"
      },
      "execution_count": null,
      "outputs": [
        {
          "output_type": "stream",
          "name": "stdout",
          "text": [
            "race4 : citizens :848\n"
          ]
        }
      ]
    },
    {
      "cell_type": "markdown",
      "source": [
        "Find out which is the race with the minimum no. of citizens"
      ],
      "metadata": {
        "id": "yJVgGJLgfJcV"
      }
    },
    {
      "cell_type": "code",
      "source": [
        "race_with_min_citizens = np.min([len_0,len_1,len_2,len_3,len_4])\n",
        "print(f\"race3 : citizens :{race_with_min_citizens}\")\n"
      ],
      "metadata": {
        "id": "LnvFjvidgdzb",
        "colab": {
          "base_uri": "https://localhost:8080/"
        },
        "outputId": "17a073a5-75ef-4a75-d243-48e0f0cbcb19"
      },
      "execution_count": null,
      "outputs": [
        {
          "output_type": "stream",
          "name": "stdout",
          "text": [
            "race3 : citizens :6\n"
          ]
        }
      ]
    },
    {
      "cell_type": "markdown",
      "source": [
        "Store the number associated with the maximum race in a variable called 'maximum_race'(For eg: if \"len(race_5)\" is the maximum, store 5 in 'maximum_race' because that is the index of the race having the maximum no. of citizens )"
      ],
      "metadata": {
        "id": "OJmzGHoZfSHv"
      }
    },
    {
      "cell_type": "code",
      "source": [
        "lengths = [len(race_0), len(race_1), len(race_2), len(race_3), len(race_4)]\n",
        "maximum_race = np.argmax(lengths)\n",
        "print(\"Maximum race:\", maximum_race)"
      ],
      "metadata": {
        "id": "xi96yzv9gmar",
        "colab": {
          "base_uri": "https://localhost:8080/"
        },
        "outputId": "de765908-dd04-48aa-c569-a1fc9a7e57e7"
      },
      "execution_count": 75,
      "outputs": [
        {
          "output_type": "stream",
          "name": "stdout",
          "text": [
            "Maximum race: 4\n"
          ]
        }
      ]
    },
    {
      "cell_type": "markdown",
      "source": [
        "Store the number associated with the minority race in a variable called 'minority_race'(For eg: if \"len(race_5)\" is the minimum, store 5 in 'minority_race' because that is the index of the race having the least no. of citizens )"
      ],
      "metadata": {
        "id": "jrg7qCPZhwnu"
      }
    },
    {
      "cell_type": "code",
      "source": [
        "lengths = [len(race_0), len(race_1), len(race_2), len(race_3), len(race_4)]\n",
        "minority_race = np.argmin(lengths)\n",
        "print(\"Minority race:\", minority_race)\n"
      ],
      "metadata": {
        "id": "A3IPB6qMgocF",
        "colab": {
          "base_uri": "https://localhost:8080/"
        },
        "outputId": "a258fc2b-4c99-400c-f589-d5260603e9be"
      },
      "execution_count": 76,
      "outputs": [
        {
          "output_type": "stream",
          "name": "stdout",
          "text": [
            "Minority race: 3\n"
          ]
        }
      ]
    },
    {
      "cell_type": "markdown",
      "source": [
        "# Step 5: As per govt. records citizens above 60 should not work more than 25 hours a week. Let us check if the policy is in place"
      ],
      "metadata": {
        "id": "E1Rwgqxf9F9V"
      }
    },
    {
      "cell_type": "markdown",
      "source": [
        "a.Create a new subset array called 'senior_citizens' by filtering 'census' according to age>60 (age is the column with index 0)"
      ],
      "metadata": {
        "id": "XT4Jy_Wn9Vww"
      }
    },
    {
      "cell_type": "markdown",
      "source": [
        "[Row,Columns]  :"
      ],
      "metadata": {
        "id": "6AEHuxcS-uGh"
      }
    },
    {
      "cell_type": "code",
      "source": [
        "#from age column, filter out age data > 60\n",
        "senior_citizens = data[data[:, 0] > 60]\n",
        "print(senior_citizens)"
      ],
      "metadata": {
        "colab": {
          "base_uri": "https://localhost:8080/"
        },
        "id": "oX6E5VZv9Z4j",
        "outputId": "549cbb51-052f-40c3-d9b5-eca0b8351b28"
      },
      "execution_count": 17,
      "outputs": [
        {
          "output_type": "stream",
          "name": "stdout",
          "text": [
            "[[7.9000e+01 1.0000e+01 4.0000e+00 1.0000e+00 0.0000e+00 0.0000e+00\n",
            "  2.0000e+01 0.0000e+00]\n",
            " [6.7000e+01 6.0000e+00 4.0000e+00 1.0000e+00 0.0000e+00 0.0000e+00\n",
            "  2.0000e+00 0.0000e+00]\n",
            " [7.6000e+01 1.4000e+01 4.0000e+00 1.0000e+00 0.0000e+00 0.0000e+00\n",
            "  4.0000e+01 1.0000e+00]\n",
            " [6.1000e+01 9.0000e+00 4.0000e+00 1.0000e+00 0.0000e+00 0.0000e+00\n",
            "  4.0000e+01 0.0000e+00]\n",
            " [7.0000e+01 1.0000e+01 4.0000e+00 1.0000e+00 0.0000e+00 0.0000e+00\n",
            "  4.0000e+01 0.0000e+00]\n",
            " [6.4000e+01 7.0000e+00 4.0000e+00 1.0000e+00 0.0000e+00 2.1790e+03\n",
            "  4.0000e+01 0.0000e+00]\n",
            " [7.1000e+01 1.0000e+01 2.0000e+00 1.0000e+00 0.0000e+00 1.8160e+03\n",
            "  2.0000e+00 0.0000e+00]\n",
            " [6.8000e+01 2.0000e+00 4.0000e+00 0.0000e+00 0.0000e+00 0.0000e+00\n",
            "  2.0000e+01 0.0000e+00]\n",
            " [6.6000e+01 1.1000e+01 4.0000e+00 0.0000e+00 0.0000e+00 0.0000e+00\n",
            "  2.0000e+01 0.0000e+00]\n",
            " [6.4000e+01 2.0000e+00 4.0000e+00 1.0000e+00 0.0000e+00 0.0000e+00\n",
            "  4.0000e+01 0.0000e+00]\n",
            " [9.0000e+01 9.0000e+00 2.0000e+00 1.0000e+00 0.0000e+00 2.2060e+03\n",
            "  4.0000e+01 0.0000e+00]\n",
            " [6.6000e+01 9.0000e+00 4.0000e+00 1.0000e+00 1.4090e+03 0.0000e+00\n",
            "  5.0000e+01 0.0000e+00]\n",
            " [7.5000e+01 1.1000e+01 4.0000e+00 0.0000e+00 0.0000e+00 0.0000e+00\n",
            "  2.0000e+01 0.0000e+00]\n",
            " [6.5000e+01 9.0000e+00 4.0000e+00 0.0000e+00 0.0000e+00 0.0000e+00\n",
            "  4.0000e+01 0.0000e+00]\n",
            " [6.4000e+01 9.0000e+00 4.0000e+00 1.0000e+00 0.0000e+00 0.0000e+00\n",
            "  4.0000e+01 1.0000e+00]\n",
            " [6.1000e+01 9.0000e+00 4.0000e+00 1.0000e+00 0.0000e+00 0.0000e+00\n",
            "  4.0000e+01 1.0000e+00]\n",
            " [6.5000e+01 9.0000e+00 4.0000e+00 1.0000e+00 0.0000e+00 0.0000e+00\n",
            "  1.6000e+01 0.0000e+00]\n",
            " [7.7000e+01 1.0000e+01 4.0000e+00 1.0000e+00 0.0000e+00 0.0000e+00\n",
            "  4.0000e+01 0.0000e+00]\n",
            " [6.2000e+01 9.0000e+00 4.0000e+00 0.0000e+00 0.0000e+00 0.0000e+00\n",
            "  2.4000e+01 0.0000e+00]\n",
            " [7.6000e+01 1.4000e+01 4.0000e+00 1.0000e+00 0.0000e+00 0.0000e+00\n",
            "  1.0000e+01 0.0000e+00]\n",
            " [6.3000e+01 9.0000e+00 4.0000e+00 1.0000e+00 0.0000e+00 0.0000e+00\n",
            "  4.5000e+01 0.0000e+00]\n",
            " [6.6000e+01 9.0000e+00 4.0000e+00 1.0000e+00 2.0500e+03 0.0000e+00\n",
            "  5.5000e+01 0.0000e+00]\n",
            " [6.7000e+01 7.0000e+00 4.0000e+00 1.0000e+00 0.0000e+00 0.0000e+00\n",
            "  8.0000e+00 0.0000e+00]\n",
            " [6.5000e+01 7.0000e+00 3.0000e+00 1.0000e+00 0.0000e+00 0.0000e+00\n",
            "  4.0000e+01 0.0000e+00]\n",
            " [6.2000e+01 1.4000e+01 4.0000e+00 1.0000e+00 0.0000e+00 0.0000e+00\n",
            "  4.0000e+01 1.0000e+00]\n",
            " [6.3000e+01 9.0000e+00 4.0000e+00 1.0000e+00 0.0000e+00 0.0000e+00\n",
            "  4.0000e+01 1.0000e+00]\n",
            " [8.0000e+01 9.0000e+00 4.0000e+00 1.0000e+00 0.0000e+00 0.0000e+00\n",
            "  2.4000e+01 0.0000e+00]\n",
            " [6.7000e+01 1.1000e+01 4.0000e+00 0.0000e+00 0.0000e+00 0.0000e+00\n",
            "  2.4000e+01 0.0000e+00]\n",
            " [6.3000e+01 2.0000e+00 4.0000e+00 1.0000e+00 0.0000e+00 0.0000e+00\n",
            "  3.5000e+01 0.0000e+00]\n",
            " [7.2000e+01 9.0000e+00 4.0000e+00 1.0000e+00 0.0000e+00 0.0000e+00\n",
            "  2.0000e+01 0.0000e+00]\n",
            " [6.2000e+01 9.0000e+00 4.0000e+00 1.0000e+00 0.0000e+00 0.0000e+00\n",
            "  4.0000e+01 0.0000e+00]\n",
            " [7.4000e+01 1.0000e+01 4.0000e+00 0.0000e+00 0.0000e+00 0.0000e+00\n",
            "  9.0000e+00 0.0000e+00]\n",
            " [6.7000e+01 1.5000e+01 4.0000e+00 1.0000e+00 2.0051e+04 0.0000e+00\n",
            "  4.8000e+01 1.0000e+00]\n",
            " [7.2000e+01 7.0000e+00 4.0000e+00 0.0000e+00 0.0000e+00 0.0000e+00\n",
            "  4.0000e+01 0.0000e+00]\n",
            " [6.9000e+01 7.0000e+00 4.0000e+00 0.0000e+00 0.0000e+00 0.0000e+00\n",
            "  4.0000e+01 0.0000e+00]\n",
            " [6.5000e+01 1.0000e+01 4.0000e+00 1.0000e+00 0.0000e+00 0.0000e+00\n",
            "  3.0000e+01 1.0000e+00]\n",
            " [6.5000e+01 5.0000e+00 2.0000e+00 0.0000e+00 0.0000e+00 0.0000e+00\n",
            "  2.4000e+01 0.0000e+00]\n",
            " [7.1000e+01 9.0000e+00 4.0000e+00 1.0000e+00 0.0000e+00 0.0000e+00\n",
            "  1.5000e+01 0.0000e+00]\n",
            " [7.0000e+01 5.0000e+00 4.0000e+00 0.0000e+00 1.1110e+03 0.0000e+00\n",
            "  1.5000e+01 0.0000e+00]\n",
            " [6.6000e+01 4.0000e+00 4.0000e+00 1.0000e+00 0.0000e+00 0.0000e+00\n",
            "  4.0000e+00 0.0000e+00]\n",
            " [6.5000e+01 7.0000e+00 4.0000e+00 1.0000e+00 9.3860e+03 0.0000e+00\n",
            "  5.9000e+01 1.0000e+00]\n",
            " [6.1000e+01 9.0000e+00 4.0000e+00 1.0000e+00 0.0000e+00 2.3520e+03\n",
            "  5.0000e+01 0.0000e+00]\n",
            " [6.1000e+01 9.0000e+00 4.0000e+00 1.0000e+00 0.0000e+00 0.0000e+00\n",
            "  4.0000e+01 0.0000e+00]\n",
            " [6.8000e+01 7.0000e+00 4.0000e+00 1.0000e+00 0.0000e+00 0.0000e+00\n",
            "  2.0000e+01 0.0000e+00]\n",
            " [6.4000e+01 1.3000e+01 4.0000e+00 1.0000e+00 0.0000e+00 0.0000e+00\n",
            "  4.0000e+01 1.0000e+00]\n",
            " [6.4000e+01 9.0000e+00 4.0000e+00 1.0000e+00 0.0000e+00 0.0000e+00\n",
            "  4.5000e+01 0.0000e+00]\n",
            " [6.2000e+01 9.0000e+00 4.0000e+00 0.0000e+00 0.0000e+00 0.0000e+00\n",
            "  4.0000e+01 0.0000e+00]\n",
            " [7.3000e+01 9.0000e+00 4.0000e+00 1.0000e+00 0.0000e+00 0.0000e+00\n",
            "  4.0000e+01 0.0000e+00]\n",
            " [7.2000e+01 7.0000e+00 4.0000e+00 0.0000e+00 0.0000e+00 0.0000e+00\n",
            "  2.4000e+01 0.0000e+00]\n",
            " [6.3000e+01 9.0000e+00 4.0000e+00 1.0000e+00 0.0000e+00 0.0000e+00\n",
            "  6.0000e+00 0.0000e+00]\n",
            " [6.2000e+01 1.3000e+01 4.0000e+00 0.0000e+00 0.0000e+00 0.0000e+00\n",
            "  4.8000e+01 0.0000e+00]\n",
            " [6.1000e+01 1.4000e+01 4.0000e+00 0.0000e+00 0.0000e+00 0.0000e+00\n",
            "  4.0000e+01 1.0000e+00]\n",
            " [7.1000e+01 1.4000e+01 4.0000e+00 1.0000e+00 1.0605e+04 0.0000e+00\n",
            "  4.0000e+01 1.0000e+00]\n",
            " [6.3000e+01 1.0000e+01 4.0000e+00 1.0000e+00 0.0000e+00 0.0000e+00\n",
            "  1.5000e+01 0.0000e+00]\n",
            " [6.3000e+01 4.0000e+00 4.0000e+00 1.0000e+00 0.0000e+00 0.0000e+00\n",
            "  5.5000e+01 0.0000e+00]\n",
            " [6.7000e+01 9.0000e+00 1.0000e+00 1.0000e+00 0.0000e+00 0.0000e+00\n",
            "  4.0000e+01 1.0000e+00]\n",
            " [8.1000e+01 9.0000e+00 4.0000e+00 1.0000e+00 0.0000e+00 0.0000e+00\n",
            "  3.0000e+01 0.0000e+00]\n",
            " [6.4000e+01 9.0000e+00 4.0000e+00 1.0000e+00 0.0000e+00 0.0000e+00\n",
            "  5.0000e+00 0.0000e+00]\n",
            " [6.7000e+01 1.3000e+01 4.0000e+00 1.0000e+00 0.0000e+00 2.3920e+03\n",
            "  4.0000e+01 1.0000e+00]\n",
            " [7.8000e+01 9.0000e+00 2.0000e+00 0.0000e+00 2.9640e+03 0.0000e+00\n",
            "  4.0000e+01 0.0000e+00]\n",
            " [6.3000e+01 1.1000e+01 4.0000e+00 0.0000e+00 0.0000e+00 0.0000e+00\n",
            "  2.0000e+01 0.0000e+00]]\n"
          ]
        }
      ]
    },
    {
      "cell_type": "markdown",
      "source": [
        "b.Add all the working hours(working hours is the column with index 6) of 'senior_citizens' and store it in a variable called 'working_hours_sum'"
      ],
      "metadata": {
        "id": "mDbsg8N0_K8b"
      }
    },
    {
      "cell_type": "code",
      "source": [
        "senior_citizens = data[data[:, 0] > 60]\n",
        "working_hours_sum = senior_citizens[:, 6].sum()\n",
        "print(f\"Total working hours for senior citizens : {working_hours_sum}\")"
      ],
      "metadata": {
        "id": "fYZTR7EMgupn",
        "colab": {
          "base_uri": "https://localhost:8080/"
        },
        "outputId": "2aecb7cb-6596-4515-e9d8-4ec3c3d3078f"
      },
      "execution_count": 19,
      "outputs": [
        {
          "output_type": "stream",
          "name": "stdout",
          "text": [
            "Total working hours for senior citizens : 1917.0\n"
          ]
        }
      ]
    },
    {
      "cell_type": "markdown",
      "source": [
        "c.Find the length of 'senior_citizens' and store it in a variable called 'senior_citizens_len'"
      ],
      "metadata": {
        "id": "l4h6_8DfBD9x"
      }
    },
    {
      "cell_type": "code",
      "source": [
        "senior_citizens_len = len(senior_citizens)\n",
        "print(f\"Number of senior citizens : {senior_citizens_len}\")"
      ],
      "metadata": {
        "id": "pPExiV83gwaC",
        "colab": {
          "base_uri": "https://localhost:8080/"
        },
        "outputId": "ed031571-bcb6-4846-e568-ac85e4e1db00"
      },
      "execution_count": 21,
      "outputs": [
        {
          "output_type": "stream",
          "name": "stdout",
          "text": [
            "Number of senior citizens : 61\n"
          ]
        }
      ]
    },
    {
      "cell_type": "markdown",
      "source": [
        "d. Finally find the average working hours of the senior citizens by dividing 'working_hours_sum' by 'senior_citizens_len' and store it in a variable called 'avg_working hours'."
      ],
      "metadata": {
        "id": "-6mWgLiXBgAW"
      }
    },
    {
      "cell_type": "code",
      "source": [
        "avg_working_hours = working_hours_sum / senior_citizens_len\n",
        "print(f\"Average working hours for senior citizens : {avg_working_hours}\")"
      ],
      "metadata": {
        "id": "AOwajHabgy29",
        "colab": {
          "base_uri": "https://localhost:8080/"
        },
        "outputId": "5403d023-b965-4812-daab-dd585fbb331e"
      },
      "execution_count": 22,
      "outputs": [
        {
          "output_type": "stream",
          "name": "stdout",
          "text": [
            "Average working hours for senior citizens : 31.42622950819672\n"
          ]
        }
      ]
    },
    {
      "cell_type": "markdown",
      "source": [
        "e. Print 'avg_working_hours' and see if the govt. policy is followed."
      ],
      "metadata": {
        "id": "VS382pv_CY1Q"
      }
    },
    {
      "cell_type": "code",
      "source": [
        "print(f\"Average working hours for senior citizens : {avg_working_hours}\")\n",
        "if avg_working_hours > 25:\n",
        "    print(\"Govt. policy is not followed.\")\n",
        "else:\n",
        "    print(\"Govt. policy is followed.\")"
      ],
      "metadata": {
        "id": "NatAJ4JBgzr4",
        "colab": {
          "base_uri": "https://localhost:8080/"
        },
        "outputId": "2df1f06d-9eff-4f1c-e10f-dd139d90ce12"
      },
      "execution_count": 23,
      "outputs": [
        {
          "output_type": "stream",
          "name": "stdout",
          "text": [
            "Average working hours for senior citizens : 31.42622950819672\n",
            "Govt. policy is not followed.\n"
          ]
        }
      ]
    },
    {
      "cell_type": "markdown",
      "source": [
        "# Step 6: Let's check that higher educated people have better pay in general."
      ],
      "metadata": {
        "id": "KRGhpDBKEIa-"
      }
    },
    {
      "cell_type": "markdown",
      "source": [
        "Create two new subset arrays called 'high' and 'low' by filtering 'census' according to education-num>10 and education-num<=10 (education-num is the column with index 1) respectively.\n",
        "\n"
      ],
      "metadata": {
        "id": "-5rc9FarELwP"
      }
    },
    {
      "cell_type": "code",
      "source": [
        "high = census[census[:, 1] > 10]\n",
        "low = census[census[:, 1] <= 10]"
      ],
      "metadata": {
        "id": "GVA3Dgp5g2Ui",
        "colab": {
          "base_uri": "https://localhost:8080/"
        },
        "outputId": "63fad68c-9746-4ff2-ed87-ef5f79ea588c"
      },
      "execution_count": 24,
      "outputs": [
        {
          "output_type": "stream",
          "name": "stdout",
          "text": [
            "[[39. 13.  4. ...  0. 40.  0.]\n",
            " [50. 13.  4. ...  0. 13.  0.]\n",
            " [28. 13.  2. ...  0. 40.  0.]\n",
            " ...\n",
            " [45. 14.  4. ...  0. 45.  0.]\n",
            " [48. 13.  4. ...  0. 58.  1.]\n",
            " [39. 13.  4. ...  0. 50.  1.]]\n"
          ]
        }
      ]
    },
    {
      "cell_type": "markdown",
      "source": [
        "Find the mean of income column(income is the column with index 7) of 'high' array and store it in 'avg_pay_high'. Do the same for 'low' array and store it's mean in 'avg_pay_low'."
      ],
      "metadata": {
        "id": "I4MwXFEbFEjV"
      }
    },
    {
      "cell_type": "code",
      "source": [
        "avg_pay_high = np.mean(high[:, 7])\n",
        "print(f\"Average pay for high educated people : {avg_pay_high:.2f}\")"
      ],
      "metadata": {
        "colab": {
          "base_uri": "https://localhost:8080/"
        },
        "id": "aaHfrQd1FItV",
        "outputId": "bf0ac7ef-4172-4da4-e661-c10142998b92"
      },
      "execution_count": 31,
      "outputs": [
        {
          "output_type": "stream",
          "name": "stdout",
          "text": [
            "Average pay for high educated people : 0.43\n"
          ]
        }
      ]
    },
    {
      "cell_type": "code",
      "source": [
        "avg_pay_low = np.mean(low[:, 7])\n",
        "print(f\"Average pay for low educated people : {avg_pay_low:.2f}\")"
      ],
      "metadata": {
        "colab": {
          "base_uri": "https://localhost:8080/"
        },
        "id": "W4pJ8mhvHjlL",
        "outputId": "3f3e6cc3-b3e7-45d7-afd8-cebfc0b19ad4"
      },
      "execution_count": 32,
      "outputs": [
        {
          "output_type": "stream",
          "name": "stdout",
          "text": [
            "Average pay for low educated people : 0.14\n"
          ]
        }
      ]
    }
  ]
}